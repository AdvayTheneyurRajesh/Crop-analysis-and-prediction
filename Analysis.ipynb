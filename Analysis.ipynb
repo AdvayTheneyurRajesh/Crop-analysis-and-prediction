import numpy as np 
import pandas as pd 

import os
for dirname, _, filenames in os.walk('C:\Advay\advay2\data\Crop_recommendation.csv'):
    for filename in filenames:
        print(os.path.join(dirname, filename))

import warnings
warnings.simplefilter(action='ignore', category=FutureWarning)
warnings.simplefilter(action='ignore', category=UserWarning)
import seaborn as sns
import matplotlib.pyplot as plt
%matplotlib inline
df=pd.read_csv('C:\Advay\\advay2\\data\\Crop_recommendation.csv')
df.head()
df.describe()

sns.heatmap(df.isnull(),cmap="coolwarm")
plt.show()
plt.figure(figsize=(12,5))
plt.subplot(1, 2, 1)
# sns.distplot(df_setosa['sepal_length'],kde=True,color='green',bins=20,hist_kws={'alpha':0.3})
sns.distplot(df['temperature'],color="purple",bins=15,hist_kws={'alpha':0.2})
plt.subplot(1, 2, 2)
sns.distplot(df['ph'],color="green",bins=15,hist_kws={'alpha':0.2})
sns.countplot(y='label',data=df, palette="plasma_r")
sns.pairplot(df, hue = 'label')
sns.jointplot(x="rainfall",y="humidity",data=df[(df['temperature']<30) & (df['rainfall']>120)],hue="label")
sns.jointplot(x="K",y="N",data=df[(df['N']>40)&(df['K']>40)],hue="label")
sns.jointplot(x="K",y="humidity",data=df,hue='label',size=8,s=30,alpha=0.7)
sns.boxplot(y='label',x='ph',data=df)
sns.boxplot(y='label',x='P',data=df[df['rainfall']>150])
sns.lineplot(data = df[(df['humidity']<65)], x = "K", y = "rainfall",hue="label")
c=df.label.astype('category')
targets = dict(enumerate(c.cat.categories))
df['target']=c.cat.codes

y=df.target
X=df[['N','P','K','temperature','humidity','ph','rainfall']]
sns.heatmap(X.corr())
